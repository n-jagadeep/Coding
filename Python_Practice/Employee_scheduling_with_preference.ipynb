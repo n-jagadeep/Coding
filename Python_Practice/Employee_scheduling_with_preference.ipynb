{
 "cells": [
  {
   "cell_type": "code",
   "execution_count": 1,
   "metadata": {},
   "outputs": [],
   "source": [
    "from typing import Union\n",
    "\n",
    "from ortools.sat.python import cp_model"
   ]
  },
  {
   "cell_type": "code",
   "execution_count": 2,
   "metadata": {},
   "outputs": [],
   "source": [
    "num_nurses = 5\n",
    "num_shifts = 3\n",
    "num_days = 7\n",
    "all_nurses = range(num_nurses)\n",
    "all_shifts = range(num_shifts)\n",
    "all_days = range(num_days)\n",
    "shift_requests = [\n",
    "    [[0, 0, 1], [0, 0, 0], [0, 0, 0], [0, 0, 0], [0, 0, 1], [0, 1, 0], [0, 0, 1]],\n",
    "    [[0, 0, 0], [0, 0, 0], [0, 1, 0], [0, 1, 0], [1, 0, 0], [0, 0, 0], [0, 0, 1]],\n",
    "    [[0, 1, 0], [0, 1, 0], [0, 0, 0], [1, 0, 0], [0, 0, 0], [0, 1, 0], [0, 0, 0]],\n",
    "    [[0, 0, 1], [0, 0, 0], [1, 0, 0], [0, 1, 0], [0, 0, 0], [1, 0, 0], [0, 0, 0]],\n",
    "    [[0, 0, 0], [0, 0, 1], [0, 1, 0], [0, 0, 0], [1, 0, 0], [0, 1, 0], [0, 0, 0]],\n",
    "]"
   ]
  },
  {
   "cell_type": "code",
   "execution_count": 3,
   "metadata": {},
   "outputs": [],
   "source": [
    "model = cp_model.CpModel()"
   ]
  },
  {
   "cell_type": "code",
   "execution_count": 4,
   "metadata": {},
   "outputs": [],
   "source": [
    "shifts = {}\n",
    "for n in all_nurses:\n",
    "    for d in all_days:\n",
    "        for s in all_shifts:\n",
    "            shifts[(n, d, s)] = model.new_bool_var(f\"shift_n{n}_d{d}_s{s}\")"
   ]
  },
  {
   "cell_type": "code",
   "execution_count": 5,
   "metadata": {},
   "outputs": [],
   "source": [
    "for d in all_days:\n",
    "    for s in all_shifts:\n",
    "        model.add_exactly_one(shifts[(n, d, s)] for n in all_nurses)"
   ]
  },
  {
   "cell_type": "code",
   "execution_count": 6,
   "metadata": {},
   "outputs": [],
   "source": [
    "for n in all_nurses:\n",
    "    for d in all_days:\n",
    "        model.add_at_most_one(shifts[(n, d, s)] for s in all_shifts)"
   ]
  },
  {
   "cell_type": "code",
   "execution_count": 7,
   "metadata": {},
   "outputs": [],
   "source": [
    "\n",
    "min_shifts_per_nurse = (num_shifts * num_days) // num_nurses\n",
    "if num_shifts * num_days % num_nurses == 0:\n",
    "    max_shifts_per_nurse = min_shifts_per_nurse\n",
    "else:\n",
    "    max_shifts_per_nurse = min_shifts_per_nurse + 1\n",
    "for n in all_nurses:\n",
    "    num_shifts_worked: Union[cp_model.LinearExpr, int] = 0\n",
    "    for d in all_days:\n",
    "        for s in all_shifts:\n",
    "            num_shifts_worked += shifts[(n, d, s)]\n",
    "    model.add(min_shifts_per_nurse <= num_shifts_worked)\n",
    "    model.add(num_shifts_worked <= max_shifts_per_nurse)"
   ]
  },
  {
   "cell_type": "code",
   "execution_count": 8,
   "metadata": {},
   "outputs": [],
   "source": [
    "model.maximize(\n",
    "    sum(\n",
    "        shift_requests[n][d][s] * shifts[(n, d, s)]\n",
    "        for n in all_nurses\n",
    "        for d in all_days\n",
    "        for s in all_shifts\n",
    "    )\n",
    ")"
   ]
  },
  {
   "cell_type": "code",
   "execution_count": 9,
   "metadata": {},
   "outputs": [],
   "source": [
    "solver = cp_model.CpSolver()\n",
    "status = solver.solve(model)"
   ]
  },
  {
   "cell_type": "code",
   "execution_count": 10,
   "metadata": {},
   "outputs": [
    {
     "name": "stdout",
     "output_type": "stream",
     "text": [
      "Solution:\n",
      "Day 0\n",
      "Nurse 1 works shift 0 (not requested).\n",
      "Nurse 2 works shift 1 (requested).\n",
      "Nurse 3 works shift 2 (requested).\n",
      "\n",
      "Day 1\n",
      "Nurse 0 works shift 0 (not requested).\n",
      "Nurse 2 works shift 1 (requested).\n",
      "Nurse 4 works shift 2 (requested).\n",
      "\n",
      "Day 2\n",
      "Nurse 2 works shift 2 (not requested).\n",
      "Nurse 3 works shift 0 (requested).\n",
      "Nurse 4 works shift 1 (requested).\n",
      "\n",
      "Day 3\n",
      "Nurse 1 works shift 2 (not requested).\n",
      "Nurse 2 works shift 0 (requested).\n",
      "Nurse 3 works shift 1 (requested).\n",
      "\n",
      "Day 4\n",
      "Nurse 0 works shift 2 (requested).\n",
      "Nurse 1 works shift 1 (not requested).\n",
      "Nurse 4 works shift 0 (requested).\n",
      "\n",
      "Day 5\n",
      "Nurse 0 works shift 2 (not requested).\n",
      "Nurse 2 works shift 1 (requested).\n",
      "Nurse 3 works shift 0 (requested).\n",
      "\n",
      "Day 6\n",
      "Nurse 0 works shift 2 (requested).\n",
      "Nurse 1 works shift 1 (not requested).\n",
      "Nurse 4 works shift 0 (not requested).\n",
      "\n",
      "Number of shift requests met = 13.0 (out of 20)\n"
     ]
    }
   ],
   "source": [
    "if status == cp_model.OPTIMAL:\n",
    "    print(\"Solution:\")\n",
    "    for d in all_days:\n",
    "        print(\"Day\", d)\n",
    "        for n in all_nurses:\n",
    "            for s in all_shifts:\n",
    "                if solver.value(shifts[(n, d, s)]) == 1:\n",
    "                    if shift_requests[n][d][s] == 1:\n",
    "                        print(\"Nurse\", n, \"works shift\", s, \"(requested).\")\n",
    "                    else:\n",
    "                        print(\"Nurse\", n, \"works shift\", s, \"(not requested).\")\n",
    "        print()\n",
    "    print(\n",
    "        f\"Number of shift requests met = {solver.objective_value}\",\n",
    "        f\"(out of {num_nurses * min_shifts_per_nurse})\",\n",
    "    )\n",
    "else:\n",
    "    print(\"No optimal solution found !\")"
   ]
  }
 ],
 "metadata": {
  "kernelspec": {
   "display_name": "Python 3",
   "language": "python",
   "name": "python3"
  },
  "language_info": {
   "codemirror_mode": {
    "name": "ipython",
    "version": 3
   },
   "file_extension": ".py",
   "mimetype": "text/x-python",
   "name": "python",
   "nbconvert_exporter": "python",
   "pygments_lexer": "ipython3",
   "version": "3.11.6"
  }
 },
 "nbformat": 4,
 "nbformat_minor": 2
}
