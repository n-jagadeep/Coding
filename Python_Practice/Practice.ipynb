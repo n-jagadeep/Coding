{
 "cells": [
  {
   "cell_type": "code",
   "execution_count": 5,
   "metadata": {},
   "outputs": [],
   "source": [
    "import collections\n",
    "from ortools.sat.python import cp_model"
   ]
  },
  {
   "cell_type": "code",
   "execution_count": 6,
   "metadata": {},
   "outputs": [],
   "source": [
    "model = cp_model.CpModel()"
   ]
  },
  {
   "cell_type": "code",
   "execution_count": 11,
   "metadata": {},
   "outputs": [
    {
     "name": "stdout",
     "output_type": "stream",
     "text": [
      "{(0, 0): task_type(start=start_0_0(0..21), end=end_0_0(0..21), interval=interval_0_0(start = start_0_0, size = 3, end = end_0_0))}\n",
      "{(0, 0): task_type(start=start_0_0(0..21), end=end_0_0(0..21), interval=interval_0_0(start = start_0_0, size = 3, end = end_0_0)), (0, 1): task_type(start=start_0_1(0..21), end=end_0_1(0..21), interval=interval_0_1(start = start_0_1, size = 2, end = end_0_1))}\n",
      "{(0, 0): task_type(start=start_0_0(0..21), end=end_0_0(0..21), interval=interval_0_0(start = start_0_0, size = 3, end = end_0_0)), (0, 1): task_type(start=start_0_1(0..21), end=end_0_1(0..21), interval=interval_0_1(start = start_0_1, size = 2, end = end_0_1)), (0, 2): task_type(start=start_0_2(0..21), end=end_0_2(0..21), interval=interval_0_2(start = start_0_2, size = 2, end = end_0_2))}\n",
      "{(0, 0): task_type(start=start_0_0(0..21), end=end_0_0(0..21), interval=interval_0_0(start = start_0_0, size = 3, end = end_0_0)), (0, 1): task_type(start=start_0_1(0..21), end=end_0_1(0..21), interval=interval_0_1(start = start_0_1, size = 2, end = end_0_1)), (0, 2): task_type(start=start_0_2(0..21), end=end_0_2(0..21), interval=interval_0_2(start = start_0_2, size = 2, end = end_0_2)), (1, 0): task_type(start=start_1_0(0..21), end=end_1_0(0..21), interval=interval_1_0(start = start_1_0, size = 2, end = end_1_0))}\n",
      "{(0, 0): task_type(start=start_0_0(0..21), end=end_0_0(0..21), interval=interval_0_0(start = start_0_0, size = 3, end = end_0_0)), (0, 1): task_type(start=start_0_1(0..21), end=end_0_1(0..21), interval=interval_0_1(start = start_0_1, size = 2, end = end_0_1)), (0, 2): task_type(start=start_0_2(0..21), end=end_0_2(0..21), interval=interval_0_2(start = start_0_2, size = 2, end = end_0_2)), (1, 0): task_type(start=start_1_0(0..21), end=end_1_0(0..21), interval=interval_1_0(start = start_1_0, size = 2, end = end_1_0)), (1, 1): task_type(start=start_1_1(0..21), end=end_1_1(0..21), interval=interval_1_1(start = start_1_1, size = 1, end = end_1_1))}\n",
      "{(0, 0): task_type(start=start_0_0(0..21), end=end_0_0(0..21), interval=interval_0_0(start = start_0_0, size = 3, end = end_0_0)), (0, 1): task_type(start=start_0_1(0..21), end=end_0_1(0..21), interval=interval_0_1(start = start_0_1, size = 2, end = end_0_1)), (0, 2): task_type(start=start_0_2(0..21), end=end_0_2(0..21), interval=interval_0_2(start = start_0_2, size = 2, end = end_0_2)), (1, 0): task_type(start=start_1_0(0..21), end=end_1_0(0..21), interval=interval_1_0(start = start_1_0, size = 2, end = end_1_0)), (1, 1): task_type(start=start_1_1(0..21), end=end_1_1(0..21), interval=interval_1_1(start = start_1_1, size = 1, end = end_1_1)), (1, 2): task_type(start=start_1_2(0..21), end=end_1_2(0..21), interval=interval_1_2(start = start_1_2, size = 4, end = end_1_2))}\n",
      "{(0, 0): task_type(start=start_0_0(0..21), end=end_0_0(0..21), interval=interval_0_0(start = start_0_0, size = 3, end = end_0_0)), (0, 1): task_type(start=start_0_1(0..21), end=end_0_1(0..21), interval=interval_0_1(start = start_0_1, size = 2, end = end_0_1)), (0, 2): task_type(start=start_0_2(0..21), end=end_0_2(0..21), interval=interval_0_2(start = start_0_2, size = 2, end = end_0_2)), (1, 0): task_type(start=start_1_0(0..21), end=end_1_0(0..21), interval=interval_1_0(start = start_1_0, size = 2, end = end_1_0)), (1, 1): task_type(start=start_1_1(0..21), end=end_1_1(0..21), interval=interval_1_1(start = start_1_1, size = 1, end = end_1_1)), (1, 2): task_type(start=start_1_2(0..21), end=end_1_2(0..21), interval=interval_1_2(start = start_1_2, size = 4, end = end_1_2)), (2, 0): task_type(start=start_2_0(0..21), end=end_2_0(0..21), interval=interval_2_0(start = start_2_0, size = 4, end = end_2_0))}\n",
      "{(0, 0): task_type(start=start_0_0(0..21), end=end_0_0(0..21), interval=interval_0_0(start = start_0_0, size = 3, end = end_0_0)), (0, 1): task_type(start=start_0_1(0..21), end=end_0_1(0..21), interval=interval_0_1(start = start_0_1, size = 2, end = end_0_1)), (0, 2): task_type(start=start_0_2(0..21), end=end_0_2(0..21), interval=interval_0_2(start = start_0_2, size = 2, end = end_0_2)), (1, 0): task_type(start=start_1_0(0..21), end=end_1_0(0..21), interval=interval_1_0(start = start_1_0, size = 2, end = end_1_0)), (1, 1): task_type(start=start_1_1(0..21), end=end_1_1(0..21), interval=interval_1_1(start = start_1_1, size = 1, end = end_1_1)), (1, 2): task_type(start=start_1_2(0..21), end=end_1_2(0..21), interval=interval_1_2(start = start_1_2, size = 4, end = end_1_2)), (2, 0): task_type(start=start_2_0(0..21), end=end_2_0(0..21), interval=interval_2_0(start = start_2_0, size = 4, end = end_2_0)), (2, 1): task_type(start=start_2_1(0..21), end=end_2_1(0..21), interval=interval_2_1(start = start_2_1, size = 3, end = end_2_1))}\n"
     ]
    }
   ],
   "source": [
    "jobs_data = [  # task = (machine_id, processing_time).\n",
    "    [(0, 3), (1, 2), (2, 2)],  # Job0\n",
    "    [(0, 2), (2, 1), (1, 4)],  # Job1\n",
    "    [(1, 4), (2, 3)],  # Job2\n",
    "]\n",
    "machines_count = 1 + max(task[0] for job in jobs_data for task in job)\n",
    "all_machines = range(machines_count)\n",
    "# Computes horizon dynamically as the sum of all durations.\n",
    "horizon = sum(task[1] for job in jobs_data for task in job)\n",
    "# Named tuple to store information about created variables.\n",
    "task_type = collections.namedtuple(\"task_type\", \"start end interval\")\n",
    "# Named tuple to manipulate solution information.\n",
    "assigned_task_type = collections.namedtuple(\n",
    "    \"assigned_task_type\", \"start job index duration\"\n",
    ")\n",
    "all_tasks = {}\n",
    "machine_to_intervals = collections.defaultdict(list)\n",
    "\n",
    "for job_id, job in enumerate(jobs_data):\n",
    "  #print(job_id,job)\n",
    "  for task_id, task in enumerate(job):\n",
    "    #print(task_id,task)\n",
    "    machine,duration = task\n",
    "    #print (machine,duration)\n",
    "    suffix = f\"_{job_id}_{task_id}\"\n",
    "    #print(suffix)\n",
    "    start_var = model.new_int_var(0, horizon, \"start\" + suffix)\n",
    "    end_var = model.new_int_var(0, horizon, \"end\" + suffix)\n",
    "    # print(end_var)\n",
    "    # print(start_var)\n",
    "    interval_var = model.new_interval_var(start_var, duration, end_var, \"interval\" + suffix)\n",
    "    #print(interval_var)\n",
    "    all_tasks[job_id, task_id] = task_type(\n",
    "            start=start_var, end=end_var, interval=interval_var\n",
    "        )\n",
    "    print(all_tasks)\n"
   ]
  }
 ],
 "metadata": {
  "kernelspec": {
   "display_name": "Python 3",
   "language": "python",
   "name": "python3"
  },
  "language_info": {
   "codemirror_mode": {
    "name": "ipython",
    "version": 3
   },
   "file_extension": ".py",
   "mimetype": "text/x-python",
   "name": "python",
   "nbconvert_exporter": "python",
   "pygments_lexer": "ipython3",
   "version": "3.11.6"
  }
 },
 "nbformat": 4,
 "nbformat_minor": 2
}
