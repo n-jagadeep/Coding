{
 "cells": [
  {
   "cell_type": "code",
   "execution_count": 1,
   "metadata": {},
   "outputs": [],
   "source": [
    "# importing google or tools and declaring model template\n",
    "from ortools.sat.python import cp_model\n",
    "model = cp_model.CpModel()\n",
    "# declare empty list that will be used for storing indices for worker-shift-day combination\n",
    "shiftoptions = {}\n",
    "\n",
    "# set number of workers, days and schedules as well as max schedules per day, \n",
    "# as well as max shift amount difference per worker\n",
    "workers = 5\n",
    "shifts = 3\n",
    "days = 7\n",
    "maxshiftsperday = 1\n",
    "maxdifference = 1\n"
   ]
  },
  {
   "cell_type": "code",
   "execution_count": 2,
   "metadata": {},
   "outputs": [],
   "source": [
    "# create a tuple as a shift option list index, for each combination of worker, shift and day\n",
    "# use google or tools to create a boolean variable indicating if given worker works on that day, in that shift\n",
    "for x in range(workers):\n",
    "    for y in range(days):\n",
    "        for z in range(shifts):\n",
    "            shiftoptions[(x,y,z)] = model.NewBoolVar(\"shift with id\" + str(x) + \" \" + str(y) + \" \" + str(z))\n",
    "\n",
    "# now we add the constraint of shift only being assigned to one worker\n",
    "for y in range(days):\n",
    "    for z in range(shifts):\n",
    "        model.Add(sum(shiftoptions[(x, y, z)] for x in range(workers)) == 1)\n",
    "# now we add the constraint of a worker only working one shift per day\n",
    "for x in range(workers):\n",
    "    for y in range(days):\n",
    "        model.Add(sum(shiftoptions[(x,y,z)] for z in range(shifts)) <= 1)\n",
    "        \n"
   ]
  },
  {
   "cell_type": "code",
   "execution_count": 3,
   "metadata": {},
   "outputs": [
    {
     "name": "stdout",
     "output_type": "stream",
     "text": [
      "4\n"
     ]
    }
   ],
   "source": [
    "# now we add the constraint of all workers having the same amount of shifts, with some deviations allowed for with a maximum allowed difference\n",
    "minshiftsperworker = (shifts * days) // workers\n",
    "print(minshiftsperworker)\n",
    "maxshiftsperworker = minshiftsperworker + maxdifference\n",
    "for x in range(workers):\n",
    "    shiftsassigned = 0\n",
    "    for y in range(days):\n",
    "        for z in range(shifts):\n",
    "            shiftsassigned += shiftoptions[(x,y,z)]\n",
    "    model.Add(minshiftsperworker <= shiftsassigned)\n",
    "    model.Add(shiftsassigned <= maxshiftsperworker)\n"
   ]
  },
  {
   "cell_type": "code",
   "execution_count": 4,
   "metadata": {},
   "outputs": [],
   "source": [
    "\n",
    "# before solving the problem I add a solution printer (this code is taken directly from Google's documentation)\n",
    "class SolutionPrinterClass(cp_model.CpSolverSolutionCallback):\n",
    "    def __init__(self, shiftoptions, workers, days, shifts, sols):\n",
    "        cp_model.CpSolverSolutionCallback.__init__(self)\n",
    "        self._shiftoptions = shiftoptions\n",
    "        self._workers = workers\n",
    "        self._days = days\n",
    "        self._shifts = shifts\n",
    "        self._solutions = sols\n",
    "        self._solution_count = 0\n",
    "    def on_solution_callback(self):\n",
    "        if self._solution_count in self._solutions:\n",
    "            print(\"solution \" + str(self._solution_count))\n",
    "            for y in range(self._days):\n",
    "                print(\"day \" + str(y))\n",
    "                for x in range(self._workers):\n",
    "                    is_working = False\n",
    "                    for z in range(self._shifts):\n",
    "                        if self.Value(self._shiftoptions[(x,y,z)]):\n",
    "                            is_working = True\n",
    "                            print(\"worker \" +str(x) +\" works day \" + str(y) +\" shift \" + str(z))\n",
    "                    if not is_working:\n",
    "                        print('  Worker {} does not work'.format(x))\n",
    "            print()\n",
    "        self._solution_count += 1\n",
    "    def solution_count(self):\n",
    "        return self._solution_count\n"
   ]
  },
  {
   "cell_type": "code",
   "execution_count": 5,
   "metadata": {},
   "outputs": [
    {
     "name": "stdout",
     "output_type": "stream",
     "text": [
      "solution 0\n",
      "day 0\n",
      "worker 0 works day 0 shift 2\n",
      "worker 1 works day 0 shift 0\n",
      "  Worker 2 does not work\n",
      "  Worker 3 does not work\n",
      "worker 4 works day 0 shift 1\n",
      "day 1\n",
      "  Worker 0 does not work\n",
      "worker 1 works day 1 shift 1\n",
      "worker 2 works day 1 shift 2\n",
      "worker 3 works day 1 shift 0\n",
      "  Worker 4 does not work\n",
      "day 2\n",
      "worker 0 works day 2 shift 0\n",
      "worker 1 works day 2 shift 1\n",
      "worker 2 works day 2 shift 2\n",
      "  Worker 3 does not work\n",
      "  Worker 4 does not work\n",
      "day 3\n",
      "worker 0 works day 3 shift 0\n",
      "  Worker 1 does not work\n",
      "worker 2 works day 3 shift 1\n",
      "  Worker 3 does not work\n",
      "worker 4 works day 3 shift 2\n",
      "day 4\n",
      "  Worker 0 does not work\n",
      "  Worker 1 does not work\n",
      "worker 2 works day 4 shift 2\n",
      "worker 3 works day 4 shift 0\n",
      "worker 4 works day 4 shift 1\n",
      "day 5\n",
      "worker 0 works day 5 shift 1\n",
      "worker 1 works day 5 shift 0\n",
      "  Worker 2 does not work\n",
      "worker 3 works day 5 shift 2\n",
      "  Worker 4 does not work\n",
      "day 6\n",
      "  Worker 0 does not work\n",
      "  Worker 1 does not work\n",
      "worker 2 works day 6 shift 1\n",
      "worker 3 works day 6 shift 0\n",
      "worker 4 works day 6 shift 2\n",
      "\n"
     ]
    },
    {
     "data": {
      "text/plain": [
       "4"
      ]
     },
     "execution_count": 5,
     "metadata": {},
     "output_type": "execute_result"
    }
   ],
   "source": [
    "# solve the model\n",
    "solver = cp_model.CpSolver()\n",
    "solver.parameters.linearization_level = 0\n",
    "# solve it and check if solution was feasible\n",
    "solutionrange = range(1)# we want to display 1 feasible results (the first one in the feasible set)\n",
    "solution_printer = SolutionPrinterClass(shiftoptions, workers,\n",
    "                                        days, shifts, solutionrange)\n",
    "solver.Solve(model, solution_printer)"
   ]
  }
 ],
 "metadata": {
  "kernelspec": {
   "display_name": "Python 3",
   "language": "python",
   "name": "python3"
  },
  "language_info": {
   "codemirror_mode": {
    "name": "ipython",
    "version": 3
   },
   "file_extension": ".py",
   "mimetype": "text/x-python",
   "name": "python",
   "nbconvert_exporter": "python",
   "pygments_lexer": "ipython3",
   "version": "3.11.6"
  }
 },
 "nbformat": 4,
 "nbformat_minor": 2
}
