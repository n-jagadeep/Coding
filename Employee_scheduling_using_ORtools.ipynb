{
 "cells": [
  {
   "cell_type": "code",
   "execution_count": 13,
   "metadata": {},
   "outputs": [],
   "source": [
    "from ortools.sat.python import cp_model"
   ]
  },
  {
   "cell_type": "code",
   "execution_count": 14,
   "metadata": {},
   "outputs": [],
   "source": [
    "num_nurses = 4\n",
    "num_shifts = 3\n",
    "num_days = 3\n",
    "all_nurses = range(num_nurses)\n",
    "all_shifts = range(num_shifts)\n",
    "all_days = range(num_days)"
   ]
  },
  {
   "cell_type": "code",
   "execution_count": 15,
   "metadata": {},
   "outputs": [],
   "source": [
    "model = cp_model.CpModel()"
   ]
  },
  {
   "cell_type": "code",
   "execution_count": 16,
   "metadata": {},
   "outputs": [],
   "source": [
    "shifts = {}\n",
    "for n in all_nurses:\n",
    "    for d in all_days:\n",
    "        for s in all_shifts:\n",
    "            shifts[(n, d, s)] = model.new_bool_var(f\"shift_n{n}_d{d}_s{s}\")"
   ]
  },
  {
   "cell_type": "code",
   "execution_count": 17,
   "metadata": {},
   "outputs": [],
   "source": [
    "for d in all_days:\n",
    "    for s in all_shifts:\n",
    "        model.add_exactly_one(shifts[(n, d, s)] for n in all_nurses)"
   ]
  },
  {
   "cell_type": "code",
   "execution_count": 18,
   "metadata": {},
   "outputs": [],
   "source": [
    "for n in all_nurses:\n",
    "    for d in all_days:\n",
    "        model.add_at_most_one(shifts[(n, d, s)] for s in all_shifts)"
   ]
  },
  {
   "cell_type": "code",
   "execution_count": 19,
   "metadata": {},
   "outputs": [],
   "source": [
    "# Try to distribute the shifts evenly, so that each nurse works\n",
    "# min_shifts_per_nurse shifts. If this is not possible, because the total\n",
    "# number of shifts is not divisible by the number of nurses, some nurses will\n",
    "# be assigned one more shift.\n",
    "min_shifts_per_nurse = (num_shifts * num_days) // num_nurses\n",
    "if num_shifts * num_days % num_nurses == 0:\n",
    "    max_shifts_per_nurse = min_shifts_per_nurse\n",
    "else:\n",
    "    max_shifts_per_nurse = min_shifts_per_nurse + 1\n",
    "for n in all_nurses:\n",
    "    shifts_worked = []\n",
    "    for d in all_days:\n",
    "        for s in all_shifts:\n",
    "            shifts_worked.append(shifts[(n, d, s)])\n",
    "    model.add(min_shifts_per_nurse <= sum(shifts_worked))\n",
    "    model.add(sum(shifts_worked) <= max_shifts_per_nurse)"
   ]
  },
  {
   "cell_type": "code",
   "execution_count": 20,
   "metadata": {},
   "outputs": [],
   "source": [
    "solver = cp_model.CpSolver()\n",
    "solver.parameters.linearization_level = 0\n",
    "# Enumerate all solutions.\n",
    "solver.parameters.enumerate_all_solutions = True"
   ]
  },
  {
   "cell_type": "code",
   "execution_count": 21,
   "metadata": {},
   "outputs": [],
   "source": [
    "class NursesPartialSolutionPrinter(cp_model.CpSolverSolutionCallback):\n",
    "    \"\"\"Print intermediate solutions.\"\"\"\n",
    "\n",
    "    def __init__(self, shifts, num_nurses, num_days, num_shifts, limit):\n",
    "        cp_model.CpSolverSolutionCallback.__init__(self)\n",
    "        self._shifts = shifts\n",
    "        self._num_nurses = num_nurses\n",
    "        self._num_days = num_days\n",
    "        self._num_shifts = num_shifts\n",
    "        self._solution_count = 0\n",
    "        self._solution_limit = limit\n",
    "\n",
    "    def on_solution_callback(self):\n",
    "        self._solution_count += 1\n",
    "        print(f\"Solution {self._solution_count}\")\n",
    "        for d in range(self._num_days):\n",
    "            print(f\"Day {d}\")\n",
    "            for n in range(self._num_nurses):\n",
    "                is_working = False\n",
    "                for s in range(self._num_shifts):\n",
    "                    if self.value(self._shifts[(n, d, s)]):\n",
    "                        is_working = True\n",
    "                        print(f\"  Nurse {n} works shift {s}\")\n",
    "                if not is_working:\n",
    "                    print(f\"  Nurse {n} does not work\")\n",
    "        if self._solution_count >= self._solution_limit:\n",
    "            print(f\"Stop search after {self._solution_limit} solutions\")\n",
    "            self.stop_search()\n",
    "\n",
    "    def solutionCount(self):\n",
    "        return self._solution_count\n",
    "\n",
    "# Display the first five solutions.\n",
    "solution_limit = 5\n",
    "solution_printer = NursesPartialSolutionPrinter(\n",
    "    shifts, num_nurses, num_days, num_shifts, solution_limit\n",
    ")"
   ]
  },
  {
   "cell_type": "code",
   "execution_count": 22,
   "metadata": {},
   "outputs": [
    {
     "name": "stdout",
     "output_type": "stream",
     "text": [
      "Solution 1\n",
      "Day 0\n",
      "  Nurse 0 does not work\n",
      "  Nurse 1 works shift 0\n",
      "  Nurse 2 works shift 1\n",
      "  Nurse 3 works shift 2\n",
      "Day 1\n",
      "  Nurse 0 works shift 2\n",
      "  Nurse 1 does not work\n",
      "  Nurse 2 works shift 1\n",
      "  Nurse 3 works shift 0\n",
      "Day 2\n",
      "  Nurse 0 works shift 2\n",
      "  Nurse 1 works shift 1\n",
      "  Nurse 2 works shift 0\n",
      "  Nurse 3 does not work\n",
      "Solution 2\n",
      "Day 0\n",
      "  Nurse 0 works shift 0\n",
      "  Nurse 1 does not work\n",
      "  Nurse 2 works shift 1\n",
      "  Nurse 3 works shift 2\n",
      "Day 1\n",
      "  Nurse 0 does not work\n",
      "  Nurse 1 works shift 2\n",
      "  Nurse 2 works shift 1\n",
      "  Nurse 3 works shift 0\n",
      "Day 2\n",
      "  Nurse 0 works shift 2\n",
      "  Nurse 1 works shift 1\n",
      "  Nurse 2 works shift 0\n",
      "  Nurse 3 does not work\n",
      "Solution 3\n",
      "Day 0\n",
      "  Nurse 0 works shift 0\n",
      "  Nurse 1 does not work\n",
      "  Nurse 2 works shift 1\n",
      "  Nurse 3 works shift 2\n",
      "Day 1\n",
      "  Nurse 0 works shift 1\n",
      "  Nurse 1 works shift 2\n",
      "  Nurse 2 does not work\n",
      "  Nurse 3 works shift 0\n",
      "Day 2\n",
      "  Nurse 0 works shift 2\n",
      "  Nurse 1 works shift 1\n",
      "  Nurse 2 works shift 0\n",
      "  Nurse 3 does not work\n",
      "Solution 4\n",
      "Day 0\n",
      "  Nurse 0 works shift 0\n",
      "  Nurse 1 does not work\n",
      "  Nurse 2 works shift 1\n",
      "  Nurse 3 works shift 2\n",
      "Day 1\n",
      "  Nurse 0 works shift 2\n",
      "  Nurse 1 works shift 1\n",
      "  Nurse 2 does not work\n",
      "  Nurse 3 works shift 0\n",
      "Day 2\n",
      "  Nurse 0 works shift 2\n",
      "  Nurse 1 works shift 1\n",
      "  Nurse 2 works shift 0\n",
      "  Nurse 3 does not work\n",
      "Solution 5\n",
      "Day 0\n",
      "  Nurse 0 does not work\n",
      "  Nurse 1 works shift 0\n",
      "  Nurse 2 works shift 1\n",
      "  Nurse 3 works shift 2\n",
      "Day 1\n",
      "  Nurse 0 works shift 2\n",
      "  Nurse 1 works shift 1\n",
      "  Nurse 2 does not work\n",
      "  Nurse 3 works shift 0\n",
      "Day 2\n",
      "  Nurse 0 works shift 2\n",
      "  Nurse 1 works shift 1\n",
      "  Nurse 2 works shift 0\n",
      "  Nurse 3 does not work\n",
      "Stop search after 5 solutions\n"
     ]
    },
    {
     "data": {
      "text/plain": [
       "2"
      ]
     },
     "execution_count": 22,
     "metadata": {},
     "output_type": "execute_result"
    }
   ],
   "source": [
    "solver.solve(model, solution_printer)"
   ]
  }
 ],
 "metadata": {
  "kernelspec": {
   "display_name": "Python 3",
   "language": "python",
   "name": "python3"
  },
  "language_info": {
   "codemirror_mode": {
    "name": "ipython",
    "version": 3
   },
   "file_extension": ".py",
   "mimetype": "text/x-python",
   "name": "python",
   "nbconvert_exporter": "python",
   "pygments_lexer": "ipython3",
   "version": "3.11.6"
  }
 },
 "nbformat": 4,
 "nbformat_minor": 2
}
